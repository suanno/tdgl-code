{
 "cells": [
  {
   "cell_type": "code",
   "execution_count": 1,
   "metadata": {},
   "outputs": [],
   "source": [
    "import os\n",
    "import shutil\n",
    "import subprocess\n",
    "import time\n",
    "import numpy as np\n",
    "from matplotlib import pyplot as plt\n"
   ]
  },
  {
   "cell_type": "code",
   "execution_count": 2,
   "metadata": {},
   "outputs": [],
   "source": [
    "def funC(t,Cbar,A,T):\n",
    "    return Cbar + A*np.sin(2*np.pi*t/T)\n",
    "def createfileCin(simul_name, Cbar, A, T, tspan_ini, tspan, dt_ini, dt):\n",
    "    file_simul = \"../../2D/.saves/\" + simul_name + \"/\" \n",
    "    name = \"fileCin.dat\"\n",
    "    dir = \"../\" + file_simul + name\n",
    "\n",
    "    if not os.path.isdir(\"../\"+file_simul):\n",
    "        os.makedirs(\"../\"+file_simul)\n",
    "    if os.path.isfile(dir):\n",
    "        return 0    # Error: fileCin.dat already exists!\n",
    "    \n",
    "    f = open(dir, \"w\")\n",
    "    time = 0\n",
    "    while time < tspan_ini:\n",
    "        time = time + dt_ini\n",
    "        f.write(str(time) + \" \" + str(funC(time, Cbar, A, T)) + \"\\n\")\n",
    "    while time < tspan:\n",
    "        time = time + dt\n",
    "        f.write(str(time) + \" \" + str(funC(time, Cbar, A, T)) + \"\\n\")\n",
    "    \n",
    "    f.close()\n",
    "    return 1\n"
   ]
  },
  {
   "cell_type": "code",
   "execution_count": 3,
   "metadata": {},
   "outputs": [],
   "source": [
    "# Global parameters\n",
    "dt_ini = 0.01\n",
    "tspan_ini = 0\n",
    "dt = 0.1\n",
    "\n",
    "R0 = 25\n",
    "tspan = R0**2/2*2"
   ]
  },
  {
   "cell_type": "code",
   "execution_count": 4,
   "metadata": {},
   "outputs": [],
   "source": [
    "listT=[25,50]\n",
    "listA=[2]\n",
    "listdt=[0.005, 0.002, 0.001]\n",
    "Cbar = 1\n",
    "\n",
    "for dt in listdt:\n",
    "    for T in listT:\n",
    "        for A in listA:\n",
    "            simul_name = \"25_1_28_A\"+str(dt)+\"-\"+str(A)+\"-\"+str(T)\n",
    "            if (createfileCin(simul_name, Cbar, A, T, tspan_ini, tspan, dt_ini, dt) == 0):\n",
    "                print('fileCin.dat already exists for simulation '+simul_name + \"; so it has NOT been modified\\n\")"
   ]
  }
 ],
 "metadata": {
  "kernelspec": {
   "display_name": "base",
   "language": "python",
   "name": "python3"
  },
  "language_info": {
   "codemirror_mode": {
    "name": "ipython",
    "version": 3
   },
   "file_extension": ".py",
   "mimetype": "text/x-python",
   "name": "python",
   "nbconvert_exporter": "python",
   "pygments_lexer": "ipython3",
   "version": "3.12.7"
  }
 },
 "nbformat": 4,
 "nbformat_minor": 2
}
